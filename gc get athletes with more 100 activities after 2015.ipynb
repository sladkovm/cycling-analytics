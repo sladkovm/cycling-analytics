{
 "cells": [
  {
   "cell_type": "code",
   "execution_count": 1,
   "metadata": {},
   "outputs": [
    {
     "name": "stdout",
     "output_type": "stream",
     "text": [
      "The autoreload extension is already loaded. To reload it, use:\n",
      "  %reload_ext autoreload\n",
      "Local storage directory (C:\\Users\\Sladkov\\opendatastorage) created\n"
     ]
    }
   ],
   "source": [
    "%load_ext autoreload\n",
    "%autoreload 2\n",
    "from opendata import OpenData\n",
    "import pandas as pd\n",
    "import maya"
   ]
  },
  {
   "cell_type": "code",
   "execution_count": 2,
   "metadata": {},
   "outputs": [],
   "source": [
    "od = OpenData()"
   ]
  },
  {
   "cell_type": "code",
   "execution_count": 3,
   "metadata": {},
   "outputs": [],
   "source": [
    "atl = od.remote_athletes()"
   ]
  },
  {
   "cell_type": "code",
   "execution_count": 8,
   "metadata": {},
   "outputs": [
    {
     "name": "stdout",
     "output_type": "stream",
     "text": [
      "{004f16c9-6ec5-40ae-9ee0-d3b066e8a33b} rides 105\n",
      "{0066cbd9-2072-472f-8018-2e320f0b2e99} rides 2468\n",
      "{00b08a80-d090-4b05-9d7b-3d8f95c7159b} rides 1584\n",
      "{02313e1c-050d-4ee5-af63-2e84577cd706} rides 1089\n",
      "{025bad5c-1cfc-4c22-a2e3-2be1ccb70008} rides 1632\n",
      "{0291283c-c8f2-4c81-b9b1-294bf19378db} rides 1406\n",
      "{031a697d-cc40-4d77-87ff-b9a84308c5ae} rides 1390\n",
      "{033874ce-e20d-44ba-9cc9-125030b6662f} rides 731\n",
      "{03542747-6d9b-4663-9d97-11e402ab8c54} rides 225\n",
      "{03fc0b0f-2611-4e20-97d9-c7a79b10550f} rides 2386\n",
      "{0495cd0e-508d-40a1-867a-a071538fa221} rides 1494\n",
      "{04986b17-08f5-4c02-a1ca-84f8250306d5} rides 646\n",
      "{054218e6-c997-4967-9d81-b0d721ebc1b6} rides 290\n",
      "{060e8ebe-06f0-4f3c-b85f-7a83c2b2e935} rides 252\n",
      "{063d24f4-9153-4968-b65c-cab94abcc9e8} rides 1662\n",
      "{064fe546-eb58-4078-9824-db7296f2abc8} rides 670\n",
      "{068a26b7-5c77-498a-bf76-5e25629c86ad} rides 3617\n",
      "{06e9c408-4cd3-4666-a585-bf3b22d7db38} rides 249\n",
      "{06f81197-504a-478b-a347-052d4df03044} rides 3483\n",
      "{07105ea2-5c35-4a9c-9638-87bfc6915bc3} rides 401\n",
      "{073a755c-4871-42e7-a82a-459b1ad80f57} rides 1466\n",
      "{07529948-4a9c-4c88-8eb8-4b55a75cbe1b} rides 569\n",
      "{0766b3f8-57f0-4205-ba7e-a70d8099ac02} rides 1040\n",
      "{08ddcdc4-43d9-46c4-8a0c-90d1f9faa924} rides 203\n",
      "{097db339-221d-460c-a351-f1e809808870} rides 1523\n",
      "{09d9fc91-5a24-409d-ba41-5ecb809ad65f} rides 2147\n",
      "{0a038767-1c42-40f3-808c-23f48ca293b2} rides 1422\n",
      "{0a21a7cf-e0f7-4a6d-b262-f540ac7813a4} rides 534\n",
      "{0a874fe8-b4c3-4cc2-9b62-381f80e30005} rides 844\n",
      "{0b346599-ea99-4f75-a5b0-e261763c910e} rides 137\n",
      "{0b3d644e-40b1-479f-a345-5a9511aacc65} rides 1231\n",
      "{0bd45412-c08f-42e2-80d8-0b27c870a8fe} rides 284\n",
      "{0c403203-98e0-49ce-bed7-7d95171ac612} rides 1013\n",
      "{0d14367d-b91a-4a37-9731-5e0cd6d268d0} rides 862\n",
      "{0d210887-e807-4a0c-8cb9-8fa50d2f60f5} rides 1231\n",
      "{0d53b614-fe73-4fa1-bdb2-80b3092c0b4c} rides 594\n",
      "{0d5cb1a6-bcea-4df7-8e14-c07fa95a2e74} rides 568\n",
      "{0eed5c77-4ea8-4f06-a4ce-6bac85ab5b91} rides 1045\n",
      "{0f09da06-fa0d-4fb8-bd2d-32a4c957caf8} rides 1307\n",
      "{0fc4303e-5671-486b-8f64-5b0574f2edca} rides 1107\n",
      "{10621586-632b-41aa-8b99-973813cfd5ac} rides 654\n",
      "{1110cd15-984e-4993-9ae3-e7338157492f} rides 384\n",
      "{1119d36c-f303-4afd-8334-3cec111e75a2} rides 838\n",
      "{13910f63-08f9-4dff-84bf-3b5b4308554f} rides 265\n",
      "{13b59cf1-9e6a-40d2-89fc-395dfd5fe6de} rides 2888\n",
      "{143ad786-a1c3-4a1d-986e-50986173df06} rides 2251\n",
      "{14af4992-a4f3-45f7-9e24-de753af98c72} rides 3712\n",
      "{14b961a3-64d5-4a6a-9578-5c351cd2b405} rides 824\n",
      "{153ad31b-3845-4845-bbec-38605b4836c5} rides 1075\n",
      "{15dad293-9f9b-41ea-b223-60d9fe2e26af} rides 825\n",
      "{16ec088b-5777-4d36-b4db-1e710ca2c9e1} rides 1304\n",
      "{1746288d-df53-4c13-a06a-978c7ae69318} rides 2370\n",
      "{17f5386b-e85e-4299-a3f2-a54558aa4665} rides 1607\n",
      "{17fcb21c-6913-426f-bc1b-ae546be74d5a} rides 947\n",
      "{18414798-acf3-4250-ae73-30597512226a} rides 220\n",
      "{18546aba-f368-4000-a131-a78c090038bc} rides 772\n",
      "{18979252-0458-4ea3-a750-dc3ff28f8cda} rides 1003\n",
      "{18979904-cf36-4fb0-981c-41025e8eadde} rides 1722\n",
      "{19ce09b7-6e69-40a0-bf03-1ca40117cad1} rides 938\n",
      "{1a126b31-bdab-4fc8-b7e8-a7f9a3818de6} rides 654\n",
      "{1a6a6cf4-0065-4269-afe3-0b4f0d24f905} rides 645\n",
      "{1ac67ad3-d79c-4513-900f-bb2a6321551a} rides 2907\n",
      "{1b5177e3-e424-4ec0-a52a-793e61970795} rides 609\n",
      "{1b843c5c-122a-4160-8640-898bfa7cc8fd} rides 768\n",
      "{1bc1499d-9370-44a7-a2b8-cd1e8fabd8cd} rides 307\n",
      "{1c9d5b29-4cfe-4294-a2e8-8f4f23a25149} rides 838\n",
      "{1d5986fb-fe3a-44fa-9f39-7d2a9b5f0421} rides 119\n",
      "{1dc7c187-3560-49eb-8f48-417a7bfa6fa9} rides 230\n",
      "{1e0a8db8-ed03-4bef-acbc-2c68944a3671} rides 935\n",
      "{1e5f89a1-2eb8-4d11-a141-2bd79fc3b103} rides 835\n",
      "{1f3b7c35-940c-403c-af03-7fae965ccaee} rides 1408\n",
      "{1f5b361c-0d13-4396-ba5c-af985df636ad} rides 146\n",
      "{1f7b8f9a-8374-4783-ab1e-75422fd85c05} rides 1433\n",
      "{1ff7eaf8-367a-4355-b69f-31572cc31612} rides 1320\n",
      "{20fb1f7d-8be0-40bd-b3c7-2fea155857d8} rides 598\n",
      "{213c7d18-8c37-4a2c-b07c-4d1369beca2b} rides 946\n",
      "{21daa2e5-a085-40db-88d8-db1fefb4a6f8} rides 1486\n",
      "{21eb07c5-bb13-4c94-b8f0-f3763c3bf04d} rides 379\n",
      "{22526d15-04b5-48f1-aba2-9fc7e3b0491a} rides 1315\n",
      "{237f6290-1323-4d87-925e-16b5530c13bc} rides 1362\n",
      "{2431e612-0fd3-4bb8-8b28-8b926da73b4a} rides 726\n",
      "{24d2885a-693f-43ac-ace1-3f3522156bf5} rides 329\n",
      "{255352f9-2efe-419e-98a8-4e147916a511} rides 2158\n",
      "{25c9e7b6-d645-4068-9774-dcc29848b758} rides 893\n",
      "{26c20987-a0a6-4747-9e33-50198f6813a1} rides 221\n",
      "{2721d67b-a1c9-403c-b74e-f3a2f9bfb9e8} rides 1700\n",
      "{27499c04-ad43-4330-bbb0-4079955086b9} rides 660\n",
      "{27c26abf-11f8-4894-9d24-c63ed458e162} rides 1075\n",
      "{27c52a3e-1f9b-40c3-9c5b-70391bb7f328} rides 753\n",
      "{29093ad6-07d6-4405-8cad-b059abca61af} rides 1687\n"
     ]
    },
    {
     "ename": "TypeError",
     "evalue": "'NoneType' object is not subscriptable",
     "output_type": "error",
     "traceback": [
      "\u001b[1;31m---------------------------------------------------------------------------\u001b[0m",
      "\u001b[1;31mTypeError\u001b[0m                                 Traceback (most recent call last)",
      "\u001b[1;32m<ipython-input-8-af254e42db84>\u001b[0m in \u001b[0;36m<module>\u001b[1;34m\u001b[0m\n\u001b[0;32m      1\u001b[0m \u001b[0mmin_time\u001b[0m \u001b[1;33m=\u001b[0m \u001b[0mmaya\u001b[0m\u001b[1;33m.\u001b[0m\u001b[0mparse\u001b[0m\u001b[1;33m(\u001b[0m\u001b[1;34m'2015-01-01'\u001b[0m\u001b[1;33m)\u001b[0m\u001b[1;33m.\u001b[0m\u001b[0mdatetime\u001b[0m\u001b[1;33m(\u001b[0m\u001b[0mnaive\u001b[0m\u001b[1;33m=\u001b[0m\u001b[1;32mFalse\u001b[0m\u001b[1;33m)\u001b[0m\u001b[1;33m\u001b[0m\u001b[0m\n\u001b[0;32m      2\u001b[0m \u001b[1;32mfor\u001b[0m \u001b[0ma\u001b[0m \u001b[1;32min\u001b[0m \u001b[0matl\u001b[0m\u001b[1;33m:\u001b[0m\u001b[1;33m\u001b[0m\u001b[0m\n\u001b[1;32m----> 3\u001b[1;33m     \u001b[0mtimestr\u001b[0m \u001b[1;33m=\u001b[0m \u001b[0mlist\u001b[0m\u001b[1;33m(\u001b[0m\u001b[0ma\u001b[0m\u001b[1;33m.\u001b[0m\u001b[0mmetadata\u001b[0m\u001b[1;33m[\u001b[0m\u001b[1;34m'RIDES'\u001b[0m\u001b[1;33m]\u001b[0m\u001b[1;33m.\u001b[0m\u001b[0mkeys\u001b[0m\u001b[1;33m(\u001b[0m\u001b[1;33m)\u001b[0m\u001b[1;33m)\u001b[0m\u001b[1;33m\u001b[0m\u001b[0m\n\u001b[0m\u001b[0;32m      4\u001b[0m     \u001b[0mtimeiso8601\u001b[0m \u001b[1;33m=\u001b[0m \u001b[1;33m[\u001b[0m\u001b[0mmaya\u001b[0m\u001b[1;33m.\u001b[0m\u001b[0mparse\u001b[0m\u001b[1;33m(\u001b[0m\u001b[0mt\u001b[0m\u001b[1;33m)\u001b[0m\u001b[1;33m.\u001b[0m\u001b[0miso8601\u001b[0m\u001b[1;33m(\u001b[0m\u001b[1;33m)\u001b[0m \u001b[1;32mfor\u001b[0m \u001b[0mt\u001b[0m \u001b[1;32min\u001b[0m \u001b[0mtimestr\u001b[0m\u001b[1;33m]\u001b[0m\u001b[1;33m\u001b[0m\u001b[0m\n\u001b[0;32m      5\u001b[0m     \u001b[1;32mif\u001b[0m \u001b[1;33m(\u001b[0m\u001b[0mpd\u001b[0m\u001b[1;33m.\u001b[0m\u001b[0mto_datetime\u001b[0m\u001b[1;33m(\u001b[0m\u001b[0mtimeiso8601\u001b[0m\u001b[1;33m)\u001b[0m\u001b[1;33m.\u001b[0m\u001b[0mmin\u001b[0m\u001b[1;33m(\u001b[0m\u001b[1;33m)\u001b[0m\u001b[1;33m<\u001b[0m\u001b[0mmin_time\u001b[0m\u001b[1;33m)\u001b[0m \u001b[1;33m&\u001b[0m \u001b[1;33m(\u001b[0m\u001b[0mlen\u001b[0m\u001b[1;33m(\u001b[0m\u001b[0mtimeiso8601\u001b[0m\u001b[1;33m)\u001b[0m\u001b[1;33m>\u001b[0m\u001b[1;36m100\u001b[0m\u001b[1;33m)\u001b[0m\u001b[1;33m:\u001b[0m\u001b[1;33m\u001b[0m\u001b[0m\n",
      "\u001b[1;31mTypeError\u001b[0m: 'NoneType' object is not subscriptable"
     ]
    }
   ],
   "source": [
    "min_time = maya.parse('2015-01-01').datetime(naive=False)\n",
    "for a in atl:\n",
    "    timestr = list(a.metadata['RIDES'].keys())\n",
    "    timeiso8601 = [maya.parse(t).iso8601() for t in timestr]\n",
    "    if (pd.to_datetime(timeiso8601).min()<min_time) & (len(timeiso8601)>100):\n",
    "        a.store_locally(data=False)\n",
    "        print('{} rides {}'.format(a.metadata['ATHLETE']['id'], len(timeiso8601)))"
   ]
  },
  {
   "cell_type": "code",
   "execution_count": 40,
   "metadata": {},
   "outputs": [],
   "source": [
    "a = next(atl)"
   ]
  },
  {
   "cell_type": "code",
   "execution_count": 44,
   "metadata": {},
   "outputs": [
    {
     "data": {
      "text/plain": [
       "{'gender': 'M', 'yob': '2062', 'id': '{0031326c-e796-4f35-8f25-d3937edca90f}'}"
      ]
     },
     "execution_count": 44,
     "metadata": {},
     "output_type": "execute_result"
    }
   ],
   "source": [
    "a.metadata['ATHLETE']"
   ]
  },
  {
   "cell_type": "code",
   "execution_count": 30,
   "metadata": {},
   "outputs": [
    {
     "data": {
      "text/plain": [
       "datetime.datetime(2017, 1, 1, 0, 0)"
      ]
     },
     "execution_count": 30,
     "metadata": {},
     "output_type": "execute_result"
    }
   ],
   "source": [
    "maya.parse('2017-01-01').datetime(naive=True)"
   ]
  },
  {
   "cell_type": "code",
   "execution_count": 16,
   "metadata": {},
   "outputs": [],
   "source": [
    "timestr = list(a.metadata['RIDES'].keys())"
   ]
  },
  {
   "cell_type": "code",
   "execution_count": 17,
   "metadata": {},
   "outputs": [],
   "source": [
    "timeiso8601 = [maya.parse(t).iso8601() for t in timestr]"
   ]
  },
  {
   "cell_type": "code",
   "execution_count": 32,
   "metadata": {},
   "outputs": [
    {
     "data": {
      "text/plain": [
       "False"
      ]
     },
     "execution_count": 32,
     "metadata": {},
     "output_type": "execute_result"
    }
   ],
   "source": [
    "df = pd.DataFrame(timeiso8601)\n",
    "pd.to_datetime(df[0]).min() < maya.parse('2017-01-01').datetime(naive=True)\n",
    "# pd.to_datetime(df[0]).max()"
   ]
  },
  {
   "cell_type": "code",
   "execution_count": 34,
   "metadata": {},
   "outputs": [
    {
     "data": {
      "text/plain": [
       "Timestamp('2017-01-31 17:36:44')"
      ]
     },
     "execution_count": 34,
     "metadata": {},
     "output_type": "execute_result"
    }
   ],
   "source": [
    "pd.to_datetime(timeiso8601).min()"
   ]
  }
 ],
 "metadata": {
  "kernelspec": {
   "display_name": "Python 3",
   "language": "python",
   "name": "python3"
  },
  "language_info": {
   "codemirror_mode": {
    "name": "ipython",
    "version": 3
   },
   "file_extension": ".py",
   "mimetype": "text/x-python",
   "name": "python",
   "nbconvert_exporter": "python",
   "pygments_lexer": "ipython3",
   "version": "3.6.5"
  }
 },
 "nbformat": 4,
 "nbformat_minor": 2
}
