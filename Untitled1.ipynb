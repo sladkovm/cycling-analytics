{
 "cells": [
  {
   "cell_type": "code",
   "execution_count": 22,
   "metadata": {},
   "outputs": [],
   "source": [
    "import maya"
   ]
  },
  {
   "cell_type": "code",
   "execution_count": 23,
   "metadata": {},
   "outputs": [],
   "source": [
    "_d = {\n",
    "    'key1': {\n",
    "        'key11': {\n",
    "            'key21': maya.parse('2018-02-01').datetime()\n",
    "        },\n",
    "        'key12': maya.parse('2018-01-02').datetime()\n",
    "    }\n",
    "}"
   ]
  },
  {
   "cell_type": "code",
   "execution_count": 24,
   "metadata": {},
   "outputs": [
    {
     "data": {
      "text/plain": [
       "{'key1': {'key11': {'key21': datetime.datetime(2018, 2, 1, 0, 0, tzinfo=<UTC>)},\n",
       "  'key12': datetime.datetime(2018, 1, 2, 0, 0, tzinfo=<UTC>)}}"
      ]
     },
     "execution_count": 24,
     "metadata": {},
     "output_type": "execute_result"
    }
   ],
   "source": [
    "_d"
   ]
  },
  {
   "cell_type": "code",
   "execution_count": 25,
   "metadata": {},
   "outputs": [],
   "source": [
    "def traverse(d):\n",
    "    for k, v in d.items():\n",
    "        if isinstance(v, dict):\n",
    "            traverse(v)\n",
    "        else:\n",
    "            d[k] = maya.parse(v).iso8601()\n",
    "    return d"
   ]
  },
  {
   "cell_type": "code",
   "execution_count": 26,
   "metadata": {},
   "outputs": [
    {
     "data": {
      "text/plain": [
       "{'key1': {'key11': {'key21': '2018-02-01T00:00:00Z'},\n",
       "  'key12': '2018-01-02T00:00:00Z'}}"
      ]
     },
     "execution_count": 26,
     "metadata": {},
     "output_type": "execute_result"
    }
   ],
   "source": [
    "traverse(_d)"
   ]
  },
  {
   "cell_type": "raw",
   "metadata": {},
   "source": []
  }
 ],
 "metadata": {
  "kernelspec": {
   "display_name": "Python 3",
   "language": "python",
   "name": "python3"
  },
  "language_info": {
   "codemirror_mode": {
    "name": "ipython",
    "version": 3
   },
   "file_extension": ".py",
   "mimetype": "text/x-python",
   "name": "python",
   "nbconvert_exporter": "python",
   "pygments_lexer": "ipython3",
   "version": "3.7.0"
  }
 },
 "nbformat": 4,
 "nbformat_minor": 2
}
